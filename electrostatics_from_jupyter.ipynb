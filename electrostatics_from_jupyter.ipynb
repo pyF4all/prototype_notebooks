{
 "cells": [
  {
   "cell_type": "markdown",
   "id": "52756bdb",
   "metadata": {},
   "source": [
    "### A Jupyter notebook for easy calculations of molecular electrostatics with PB\n",
    "\n",
    "In this notebook we want to showcase the power of Jupyter for easy and interactive molecular electrostatics calculations. Just as an example, we will use the PBJ library."
   ]
  },
  {
   "cell_type": "code",
   "execution_count": 1,
   "id": "b6d7a0af",
   "metadata": {},
   "outputs": [],
   "source": [
    "import pbj"
   ]
  },
  {
   "cell_type": "markdown",
   "id": "bb0ea0b9",
   "metadata": {},
   "source": [
    "Let's start by generating a simulation and loading the structure of ubiquitin (PDB ID: 1ubq)."
   ]
  },
  {
   "cell_type": "code",
   "execution_count": 2,
   "id": "f33912bf",
   "metadata": {},
   "outputs": [
    {
     "name": "stdout",
     "output_type": "stream",
     "text": [
      "\n",
      "\n",
      " <<INFO>> Starting NanoShaper 0.7.8\n",
      " <<INFO>> Loading atoms....\n",
      " <<INFO>> Read 1231 atoms\n",
      " <<INFO>> Geometric baricenter ->  30.5399 29.4191 17.9425\n",
      " <<INFO>> Grid is 49\n",
      " <<INFO>> MAX 52.3581 51.2373 39.7607\n",
      " <<INFO>> MIN 8.72172 7.60092 -3.87568\n",
      " <<INFO>> Perfil 90 %\n",
      " <<INFO>> Rmaxdim 39.9394\n",
      " <<INFO>> Allocating memory...ok!\n",
      " <<INFO>> Initialization completed\n",
      " <<INFO>> Adjusting self intersection grid \n",
      " <<INFO>> Self intersection grid is (before) 28\n",
      " <<INFO>> Self intersection grid is 16\n",
      " <<INFO>> Allocating self intersection grid....ok!\n",
      " <<INFO>> Computing alpha shape complex....ok!\n",
      " <<INFO>> Checking 172 probes for self intersections...ok!\n",
      " <<INFO>> Surface build-up time.. 0 [s]\n",
      " <<INFO>> Probe Radius value 1.4\n",
      " <<INFO>> Number of ses cells -> 3167\n",
      " <<INFO>> Number of del_point cells -> 504\n",
      " <<INFO>> Number of regular del_edge cells -> 1558\n",
      " <<INFO>> Number of singular del_edge cells -> 1\n",
      " <<INFO>> Number of regular del_facet cells -> 1016\n",
      " <<INFO>> Number of singular del_facet cells -> 44\n",
      " <<INFO>> Use load balancing: 1\n",
      " <<INFO>> Detected 48 logical cores\n",
      " <<INFO>> Setting 48 threads\n",
      " <<INFO>> Inside id value is 5\n",
      " <<INFO>> Ray-tracing panel 0...ok!\n",
      " <<INFO>> Ray-tracing panel 1...ok!\n",
      " <<INFO>> Ray-tracing panel 2...ok!\n",
      " <<INFO>> Ray-tracing computation time.. 0 [s]\n",
      " <<INFO>> Approximated 0 rays (0.00000 %)\n",
      " <<INFO>> Cavity detection time is 0 [s]\n",
      " <<INFO>> Assembling octrees..ok!\n",
      " <<INFO>> Surface computation time.. 0 [s]\n",
      " <<INFO>> Estimated volume 10872.7 [A^3]\n",
      " <<INFO>> Triangulating Surface...\n",
      " <<INFO>> Setting 48 threads\n",
      " <<INFO>> Generating MC vertices...ok!\n",
      " <<INFO>> MC added 0 non analytical vertices\n",
      " <<INFO>> Triangles done\n",
      " <<INFO>> MC time is 0 [s]\n",
      " <<INFO>> Total, grid conformant, surface area is 3817.54 [A^2]\n",
      " <<INFO>> Number of vertices 6918 number of triangles 13832\n",
      " <<INFO>> Saving in MSMS format, no patch info, no nearest atom..\n",
      " <<INFO>> Smoothing surface...\n",
      " <<INFO>> Saving in MSMS format, no patch info, no nearest atom..ok!\n",
      " <<INFO>> Total Triangulation time 0 [s]\n",
      "\n",
      " <<INFO>> If you use NanoShaper please cite these works:\n",
      " <<CITATION>> \tS. Decherchi, W. Rocchia, \"A general and Robust Ray-Casting-Based Algorithm for Triangulating Surfaces at the Nanoscale\"; PlosOne\n",
      " <<CITATION>> \tlink: http://www.plosone.org/article/metrics/info%3Adoi%2F10.1371%2Fjournal.pone.0059744\n",
      "\n",
      "\n"
     ]
    }
   ],
   "source": [
    "simulation = pbj.Simulation()\n",
    "ubq = pbj.electrostatics.Solute('1ubq.pqr')\n",
    "simulation.add_solute(ubq)"
   ]
  },
  {
   "cell_type": "markdown",
   "id": "953a27ec",
   "metadata": {},
   "source": [
    "Now we have all we need to do our calculations. Let's say I want to compute the polar component of the solvation free energy"
   ]
  },
  {
   "cell_type": "code",
   "execution_count": 3,
   "id": "39097d27",
   "metadata": {},
   "outputs": [
    {
     "name": "stderr",
     "output_type": "stream",
     "text": [
      "/home/chris/miniconda3/envs/pbj/lib/python3.9/site-packages/pyopencl/__init__.py:270: CompilerWarning: Non-empty compiler output encountered. Set the environment variable PYOPENCL_COMPILER_OUTPUT=1 to see more.\n",
      "  warn(\"Non-empty compiler output encountered. Set the \"\n"
     ]
    }
   ],
   "source": [
    "simulation.calculate_solvation_energy()"
   ]
  },
  {
   "cell_type": "markdown",
   "id": "b147baa7",
   "metadata": {},
   "source": [
    "which we can query directly"
   ]
  },
  {
   "cell_type": "code",
   "execution_count": 6,
   "id": "5aef34f3",
   "metadata": {},
   "outputs": [
    {
     "name": "stdout",
     "output_type": "stream",
     "text": [
      "The polar component of the solvation energy is -295.7744 kcal/mol\n"
     ]
    }
   ],
   "source": [
    "solvation_energy = simulation.solutes[0].results[\"solvation_energy\"]\n",
    "print(\"The polar component of the solvation energy is %1.4f kcal/mol\"%solvation_energy)"
   ]
  },
  {
   "cell_type": "markdown",
   "id": "1478dd60",
   "metadata": {},
   "source": [
    "Let's say now I want to visualize the electrostatic potential in the solvent, on a plane that cuts through the middle of the molecule. We'll first generate a plane with `numpy` and compute. "
   ]
  },
  {
   "cell_type": "code",
   "execution_count": 7,
   "id": "a042c126",
   "metadata": {},
   "outputs": [],
   "source": [
    "import numpy"
   ]
  },
  {
   "cell_type": "code",
   "execution_count": 23,
   "id": "d9ead6b6",
   "metadata": {},
   "outputs": [
    {
     "name": "stderr",
     "output_type": "stream",
     "text": [
      "/home/chris/miniconda3/envs/pbj/lib/python3.9/site-packages/pyopencl/__init__.py:270: CompilerWarning: Non-empty compiler output encountered. Set the environment variable PYOPENCL_COMPILER_OUTPUT=1 to see more.\n",
      "  warn(\"Non-empty compiler output encountered. Set the \"\n"
     ]
    }
   ],
   "source": [
    "x_min = numpy.min(simulation.solutes[0].x_q[:,0])\n",
    "x_max = numpy.max(simulation.solutes[0].x_q[:,0])\n",
    "y_min = numpy.min(simulation.solutes[0].x_q[:,1])\n",
    "y_max = numpy.max(simulation.solutes[0].x_q[:,1])\n",
    "z_center = numpy.average(simulation.solutes[0].x_q[2,:])\n",
    "\n",
    "margin = 5\n",
    "\n",
    "x = numpy.linspace(x_min-margin, x_max+margin, num=150)\n",
    "y = numpy.linspace(y_min-margin, y_max+margin, num=150)\n",
    "\n",
    "X,Y,Z = numpy.meshgrid(x,y,z_center)\n",
    "\n",
    "eval_points = numpy.vstack((X.ravel(),Y.ravel(),Z.ravel())) # plane with evaluation points\n",
    "\n",
    "phi_solvent = simulation.calculate_potential_solvent(eval_points) # compute!\n",
    "\n",
    "to_mV_units = 180951\n",
    "phi_2D = numpy.reshape(phi_solvent,(len(x),len(y)))*to_mV_units # rearrange into a grid"
   ]
  },
  {
   "cell_type": "markdown",
   "id": "e3557d70",
   "metadata": {},
   "source": [
    "Now we have quantitatively access to the electrostatic potential for our analysis. We might be interested in printing"
   ]
  },
  {
   "cell_type": "code",
   "execution_count": 18,
   "id": "153373f3",
   "metadata": {},
   "outputs": [
    {
     "name": "stdout",
     "output_type": "stream",
     "text": [
      "[[-0.86231701 -0.94584215 -1.03601535 ... -2.22800593 -2.11156419\n",
      "  -2.00045312]\n",
      " [-0.88446401 -0.97293782 -1.0687695  ... -2.34168606 -2.21686933\n",
      "  -2.09799986]\n",
      " [-0.90409875 -0.99756606 -1.09915253 ... -2.45895513 -2.32531048\n",
      "  -2.1982859 ]\n",
      " ...\n",
      " [ 2.77817271  2.938654    3.10715567 ... -0.47294284 -0.47664154\n",
      "  -0.47797863]\n",
      " [ 2.64277297  2.79222389  2.94880546 ... -0.43887858 -0.44313908\n",
      "  -0.44517   ]\n",
      " [ 2.51151717  2.65051348  2.79583011 ... -0.40700942 -0.41172542\n",
      "  -0.41434046]]\n"
     ]
    }
   ],
   "source": [
    "print(phi_2D)"
   ]
  },
  {
   "cell_type": "markdown",
   "id": "eb4a353a",
   "metadata": {},
   "source": [
    "or plotting with `matplotlib`"
   ]
  },
  {
   "cell_type": "code",
   "execution_count": 19,
   "id": "27bd61c8",
   "metadata": {},
   "outputs": [
    {
     "data": {
      "image/png": "[encoded data removed]",
      "text/plain": [
       "<Figure size 1000x800 with 2 Axes>"
      ]
     },
     "metadata": {},
     "output_type": "display_data"
    }
   ],
   "source": [
    "from matplotlib import pyplot as plt\n",
    "fig=plt.figure(figsize=(10,8))\n",
    "plt.imshow(phi_2D, cmap='bwr_r',vmin=-50,vmax=50)\n",
    "plt.colorbar()\n",
    "plt.show()"
   ]
  },
  {
   "cell_type": "markdown",
   "id": "dc7521e6",
   "metadata": {},
   "source": [
    "One interesting application is computing the effective near potential ($\\phi_{ENS}$), that can be measured with NMR spectroscopy:"
   ]
  },
  {
   "cell_type": "code",
   "execution_count": 20,
   "id": "68a235d8",
   "metadata": {},
   "outputs": [],
   "source": [
    "simulation.calculate_potential_ens()\n",
    "phi_ens = simulation.solutes[0].results[\"phi_ens\"]"
   ]
  },
  {
   "cell_type": "markdown",
   "id": "5303c9e3",
   "metadata": {},
   "source": [
    "which we can explore numerically, or directly plot"
   ]
  },
  {
   "cell_type": "code",
   "execution_count": 22,
   "id": "9a1b075e",
   "metadata": {},
   "outputs": [
    {
     "name": "stdout",
     "output_type": "stream",
     "text": [
      "[ -0.37965814   0.32422446  -0.39812581   3.24119      4.22760535\n",
      "   7.8968803    6.48232026   6.74249748   4.97023104   6.94426534\n",
      "   4.64987501   7.16681307   4.82315685   4.97803339   0.38882744\n",
      "  -3.30064719  -3.71682582  -7.25022509  -5.56824636  -7.47532763\n",
      " -11.61296209  -7.03512533  -9.04635784 -11.31910197  -9.48094594\n",
      "  -8.27998763 -10.7496312   -9.9859444   -7.15848041  -7.55909159\n",
      "  -9.31343445  -6.65731097  -5.60584865  -7.118064    -4.32492295\n",
      "  -4.66553112  -2.07948011  -1.15007696   5.27922358   4.27455279\n",
      "   9.58485578   8.52370878   9.72042404  12.26536183   8.92330133\n",
      "   7.36246913   4.81138655  -0.53860617  -4.51679467  -6.76890051\n",
      "  -4.84638791  -5.34356934  -5.47437089  -4.36578611  -4.65946179\n",
      "  -2.23159366  -1.98382134  -0.09427547   1.44944292   4.27321266\n",
      "   1.321298     1.89396254   5.78944605   6.25879472  10.74582458\n",
      "   9.71348272   9.41213646   7.38569719   4.79274175   4.30312652\n",
      "   0.44939724   1.29376528  -2.7011518 ]\n"
     ]
    },
    {
     "data": {
      "text/plain": [
       "[<matplotlib.lines.Line2D at 0x7fa2241df190>]"
      ]
     },
     "execution_count": 22,
     "metadata": {},
     "output_type": "execute_result"
    },
    {
     "data": {
      "image/png": "[encoded data removed]",
      "text/plain": [
       "<Figure size 640x480 with 1 Axes>"
      ]
     },
     "metadata": {},
     "output_type": "display_data"
    }
   ],
   "source": [
    "print(phi_ens)\n",
    "plt.plot(phi_ens)"
   ]
  },
  {
   "cell_type": "markdown",
   "id": "a9479dbc",
   "metadata": {},
   "source": [
    "which can be compared with the experimental results in Fig. 3b of [Yu, Pletcka, Pettitt, Iwahara. PNAS (2021)](https://www.pnas.org/doi/epdf/10.1073/pnas.2104020118)."
   ]
  }
 ],
 "metadata": {
  "kernelspec": {
   "display_name": "Python 3 (ipykernel)",
   "language": "python",
   "name": "python3"
  },
  "language_info": {
   "codemirror_mode": {
    "name": "ipython",
    "version": 3
   },
   "file_extension": ".py",
   "mimetype": "text/x-python",
   "name": "python",
   "nbconvert_exporter": "python",
   "pygments_lexer": "ipython3",
   "version": "3.9.12"
  }
 },
 "nbformat": 4,
 "nbformat_minor": 5
}
